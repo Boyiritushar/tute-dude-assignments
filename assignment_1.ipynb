{
  "nbformat": 4,
  "nbformat_minor": 0,
  "metadata": {
    "colab": {
      "provenance": [],
      "authorship_tag": "ABX9TyM0K0LyK9T+YFYdlcwQ53yw",
      "include_colab_link": true
    },
    "kernelspec": {
      "name": "python3",
      "display_name": "Python 3"
    },
    "language_info": {
      "name": "python"
    }
  },
  "cells": [
    {
      "cell_type": "markdown",
      "metadata": {
        "id": "view-in-github",
        "colab_type": "text"
      },
      "source": [
        "<a href=\"https://colab.research.google.com/github/Boyiritushar/tute-dude-assignments/blob/main/assignment_1.ipynb\" target=\"_parent\"><img src=\"https://colab.research.google.com/assets/colab-badge.svg\" alt=\"Open In Colab\"/></a>"
      ]
    },
    {
      "cell_type": "markdown",
      "source": [
        "TASK 1"
      ],
      "metadata": {
        "id": "s8qQ2vKjVnia"
      }
    },
    {
      "cell_type": "code",
      "source": [
        "a=input(\"enter the first number : \")\n",
        "b=input(\"enter the second number :\")\n",
        "a=int(a)\n",
        "b=int(b)\n",
        "\n",
        "addition =(\"a+b\")\n",
        "subtraction =(a-b)\n",
        "multiplication =(a*b)\n",
        "division =(a/b)\n",
        "\n",
        "print(\"addition is :\",addition)\n",
        "print(\"subtraction is :\",subtraction)\n",
        "print(\"multiplication is :\",multiplication)\n",
        "print(\"division is :\",division)"
      ],
      "metadata": {
        "colab": {
          "base_uri": "https://localhost:8080/"
        },
        "id": "k-q0PsJ7V54u",
        "outputId": "44e82eea-8cdd-4f82-a003-c9ccba8cba77"
      },
      "execution_count": 8,
      "outputs": [
        {
          "output_type": "stream",
          "name": "stdout",
          "text": [
            "enter the first number : 8\n",
            "enter the second number :4\n",
            "addition is : a+b\n",
            "subtraction is : 4\n",
            "multiplication is : 32\n",
            "division is : 2.0\n"
          ]
        }
      ]
    },
    {
      "cell_type": "markdown",
      "source": [
        "TASK **2**"
      ],
      "metadata": {
        "id": "yVYFhePTXlKK"
      }
    },
    {
      "cell_type": "code",
      "source": [
        "first_name = input('enter your first name : ')\n",
        "last_name = input('enter your last name : ')\n",
        "full_name = first_name + \" \" + last_name\n",
        "print(\"hello \" ,full_name, \"welcome to the python programming\")\n"
      ],
      "metadata": {
        "colab": {
          "base_uri": "https://localhost:8080/"
        },
        "id": "csGjUBntXrHO",
        "outputId": "e0fa8f49-c9ac-472e-b8aa-f945e5e04bb8"
      },
      "execution_count": 10,
      "outputs": [
        {
          "output_type": "stream",
          "name": "stdout",
          "text": [
            "enter your first name : tushar\n",
            "enter your last name : boyiri\n",
            "hello  tushar boyiri welcome to the python programming\n"
          ]
        }
      ]
    }
  ]
}